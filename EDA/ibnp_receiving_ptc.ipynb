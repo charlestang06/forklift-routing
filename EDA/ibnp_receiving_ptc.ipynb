{
 "cells": [
  {
   "cell_type": "code",
   "execution_count": 2,
   "metadata": {},
   "outputs": [],
   "source": [
    "import pandas as pd\n",
    "from datetime import datetime\n",
    "import matplotlib.pyplot as plt"
   ]
  },
  {
   "cell_type": "markdown",
   "metadata": {},
   "source": [
    "# EDA for Receiving -> IBNP Data"
   ]
  },
  {
   "cell_type": "code",
   "execution_count": 28,
   "metadata": {},
   "outputs": [],
   "source": [
    "df = pd.read_csv(\"Receiving to PTC/DC820 Putaway IBNP.csv\")"
   ]
  },
  {
   "cell_type": "markdown",
   "metadata": {},
   "source": [
    "## Drop unnecessary colummns"
   ]
  },
  {
   "cell_type": "code",
   "execution_count": 29,
   "metadata": {},
   "outputs": [],
   "source": [
    "cols = [df.columns[0], \"WHSE\", \"TASK_ID\", \"STAT_CODE\"]\n",
    "for col in cols:\n",
    "    try:\n",
    "        df.drop(columns = [col], inplace=True)\n",
    "    except:\n",
    "        continue"
   ]
  },
  {
   "cell_type": "markdown",
   "metadata": {},
   "source": [
    "## Convert to datetime format"
   ]
  },
  {
   "cell_type": "code",
   "execution_count": 30,
   "metadata": {},
   "outputs": [],
   "source": [
    "from data_load import convert_to_datetime"
   ]
  },
  {
   "cell_type": "code",
   "execution_count": 31,
   "metadata": {},
   "outputs": [],
   "source": [
    "cols = [\n",
    "            \"CREATE_DATE_TIME\",\n",
    "            \"MOD_DATE_TIME\"\n",
    "]\n",
    "for col in cols:\n",
    "    try:\n",
    "        df[col] = df[col].apply(convert_to_datetime)\n",
    "    except:\n",
    "        pass"
   ]
  },
  {
   "cell_type": "markdown",
   "metadata": {},
   "source": [
    "## Filter out those that are not IBNP"
   ]
  },
  {
   "cell_type": "code",
   "execution_count": 32,
   "metadata": {},
   "outputs": [],
   "source": [
    "df = df[df[\"TEST\"].str.contains(\"IBNP\")]"
   ]
  },
  {
   "cell_type": "code",
   "execution_count": 33,
   "metadata": {},
   "outputs": [],
   "source": [
    "df['LOCN_BRCD_1'] = \"IBNP\""
   ]
  },
  {
   "cell_type": "code",
   "execution_count": 34,
   "metadata": {},
   "outputs": [
    {
     "name": "stdout",
     "output_type": "stream",
     "text": [
      "069R\n",
      "008R\n",
      "019R\n",
      "123R\n",
      "096R\n",
      "105R\n",
      "223R\n",
      "117R\n",
      "094R\n",
      "061R\n",
      "187R\n",
      "051R\n",
      "229R\n",
      "017R\n",
      "237R\n",
      "217R\n",
      "075R\n",
      "098R\n",
      "003R\n",
      "011R\n",
      "047R\n",
      "237R005\n",
      "181R\n",
      "185R\n",
      "012R\n",
      "055R\n",
      "100R\n",
      "090R\n",
      "007R\n",
      "173R\n",
      "001R\n",
      "237R007\n",
      "107R\n",
      "219R\n",
      "049R\n",
      "183R\n",
      "177R\n",
      "193R\n",
      "215R\n",
      "018R\n",
      "237R009\n",
      "175R\n",
      "081R\n",
      "109R\n",
      "053R\n",
      "087R\n",
      "067R\n",
      "065R\n",
      "231R\n",
      "009R\n",
      "127R\n",
      "085R\n",
      "097R\n",
      "099R\n",
      "179R\n",
      "221R\n",
      "239R\n",
      "135R\n",
      "010R\n",
      "057R\n",
      "006R\n",
      "077R\n",
      "237R006\n",
      "002R\n",
      "209R\n",
      "195R\n",
      "005R\n",
      "197R\n",
      "020R\n",
      "233R\n",
      "091R\n",
      "131R\n",
      "113R\n",
      "089R\n",
      "024R\n",
      "121R\n",
      "125R\n",
      "129R\n",
      "133R\n",
      "191R\n",
      "093R\n",
      "022R\n",
      "119R\n",
      "016R\n",
      "237R004\n",
      "111R\n",
      "189R\n",
      "095R\n",
      "004R\n",
      "115R\n",
      "073R\n",
      "137R\n",
      "083R\n",
      "171R\n",
      "071R\n",
      "063R\n",
      "021R\n",
      "079R\n"
     ]
    }
   ],
   "source": [
    "# filter out only ends with R\n",
    "l = list(set(df[\"LOCN_BRCD\"]))\n",
    "for x in l:\n",
    "    print(x)"
   ]
  },
  {
   "cell_type": "markdown",
   "metadata": {},
   "source": [
    "## Calculate time_taken and play with distributions"
   ]
  },
  {
   "cell_type": "code",
   "execution_count": 35,
   "metadata": {},
   "outputs": [],
   "source": [
    "df[\"time_taken\"] = df[\"MOD_DATE_TIME\"] - df[\"CREATE_DATE_TIME\"]\n",
    "df[\"time_taken\"] = df[\"time_taken\"].apply(lambda x: x.total_seconds())"
   ]
  },
  {
   "cell_type": "code",
   "execution_count": 36,
   "metadata": {},
   "outputs": [
    {
     "data": {
      "text/plain": [
       "0.1000       570.0000\n",
       "0.2000      4507.0000\n",
       "0.3000     11344.0000\n",
       "0.4000     18747.0000\n",
       "0.5000     27854.5000\n",
       "0.6000     39233.0000\n",
       "0.7000     53660.0000\n",
       "0.8000     73267.0000\n",
       "0.9000     99314.0000\n",
       "0.9100    103511.6500\n",
       "0.9200    111198.0000\n",
       "0.9300    120470.2500\n",
       "0.9325    124068.5875\n",
       "0.9350    128492.0250\n",
       "0.9375    131996.3125\n",
       "0.9400    135016.2000\n",
       "0.9500    144462.5000\n",
       "0.9600    158015.6000\n",
       "0.9700    173646.2000\n",
       "0.9800    200375.7000\n",
       "0.9900    231556.7500\n",
       "0.9950    285975.8000\n",
       "Name: time_taken, dtype: float64"
      ]
     },
     "execution_count": 36,
     "metadata": {},
     "output_type": "execute_result"
    }
   ],
   "source": [
    "df['time_taken'].quantile([0.1, 0.2, 0.3, 0.4, 0.5, 0.6, 0.7, 0.8, 0.9, 0.91, 0.92, 0.93, 0.9325, 0.935, 0.9375, 0.94, 0.95, 0.96, 0.97, 0.98, 0.99, 0.995])"
   ]
  },
  {
   "cell_type": "code",
   "execution_count": 37,
   "metadata": {},
   "outputs": [
    {
     "data": {
      "text/html": [
       "<div>\n",
       "<style scoped>\n",
       "    .dataframe tbody tr th:only-of-type {\n",
       "        vertical-align: middle;\n",
       "    }\n",
       "\n",
       "    .dataframe tbody tr th {\n",
       "        vertical-align: top;\n",
       "    }\n",
       "\n",
       "    .dataframe thead th {\n",
       "        text-align: right;\n",
       "    }\n",
       "</style>\n",
       "<table border=\"1\" class=\"dataframe\">\n",
       "  <thead>\n",
       "    <tr style=\"text-align: right;\">\n",
       "      <th></th>\n",
       "      <th>CNTR_NBR</th>\n",
       "      <th>LOCN_BRCD</th>\n",
       "      <th>LOCN_BRCD_1</th>\n",
       "      <th>CREATE_DATE_TIME</th>\n",
       "      <th>MOD_DATE_TIME</th>\n",
       "      <th>TEST</th>\n",
       "      <th>USER_ID</th>\n",
       "      <th>time_taken</th>\n",
       "    </tr>\n",
       "  </thead>\n",
       "  <tbody>\n",
       "    <tr>\n",
       "      <th>0</th>\n",
       "      <td>BT0151175</td>\n",
       "      <td>191R</td>\n",
       "      <td>IBNP</td>\n",
       "      <td>2024-04-24 11:05:01</td>\n",
       "      <td>2024-04-24 13:50:30</td>\n",
       "      <td>Drop in IBNP</td>\n",
       "      <td>cpowell</td>\n",
       "      <td>9929.0</td>\n",
       "    </tr>\n",
       "    <tr>\n",
       "      <th>1</th>\n",
       "      <td>BT0151182</td>\n",
       "      <td>191R</td>\n",
       "      <td>IBNP</td>\n",
       "      <td>2024-04-24 12:16:01</td>\n",
       "      <td>2024-04-25 08:46:05</td>\n",
       "      <td>Drop in IBNP</td>\n",
       "      <td>cpowell</td>\n",
       "      <td>73804.0</td>\n",
       "    </tr>\n",
       "    <tr>\n",
       "      <th>4</th>\n",
       "      <td>BT0151168</td>\n",
       "      <td>191R</td>\n",
       "      <td>IBNP</td>\n",
       "      <td>2024-04-24 11:11:08</td>\n",
       "      <td>2024-04-24 13:33:24</td>\n",
       "      <td>Drop in IBNP</td>\n",
       "      <td>cpowell</td>\n",
       "      <td>8536.0</td>\n",
       "    </tr>\n",
       "    <tr>\n",
       "      <th>5</th>\n",
       "      <td>BT0151174</td>\n",
       "      <td>191R</td>\n",
       "      <td>IBNP</td>\n",
       "      <td>2024-04-24 11:23:58</td>\n",
       "      <td>2024-04-25 09:42:24</td>\n",
       "      <td>Drop in IBNP</td>\n",
       "      <td>ralvarez</td>\n",
       "      <td>80306.0</td>\n",
       "    </tr>\n",
       "    <tr>\n",
       "      <th>6</th>\n",
       "      <td>BW0068631</td>\n",
       "      <td>009R</td>\n",
       "      <td>IBNP</td>\n",
       "      <td>2024-04-24 14:24:44</td>\n",
       "      <td>2024-04-25 06:15:27</td>\n",
       "      <td>Drop in IBNP</td>\n",
       "      <td>cpowell</td>\n",
       "      <td>57043.0</td>\n",
       "    </tr>\n",
       "    <tr>\n",
       "      <th>...</th>\n",
       "      <td>...</td>\n",
       "      <td>...</td>\n",
       "      <td>...</td>\n",
       "      <td>...</td>\n",
       "      <td>...</td>\n",
       "      <td>...</td>\n",
       "      <td>...</td>\n",
       "      <td>...</td>\n",
       "    </tr>\n",
       "    <tr>\n",
       "      <th>33904</th>\n",
       "      <td>BF0006145</td>\n",
       "      <td>020R</td>\n",
       "      <td>IBNP</td>\n",
       "      <td>2024-04-14 08:11:32</td>\n",
       "      <td>2024-04-15 21:38:18</td>\n",
       "      <td>Drop in IBNP</td>\n",
       "      <td>jamonoo</td>\n",
       "      <td>134806.0</td>\n",
       "    </tr>\n",
       "    <tr>\n",
       "      <th>33905</th>\n",
       "      <td>BF0006146</td>\n",
       "      <td>020R</td>\n",
       "      <td>IBNP</td>\n",
       "      <td>2024-04-14 08:11:33</td>\n",
       "      <td>2024-04-15 21:42:24</td>\n",
       "      <td>Drop in IBNP</td>\n",
       "      <td>jamonoo</td>\n",
       "      <td>135051.0</td>\n",
       "    </tr>\n",
       "    <tr>\n",
       "      <th>33907</th>\n",
       "      <td>BS9282812</td>\n",
       "      <td>121R</td>\n",
       "      <td>IBNP</td>\n",
       "      <td>2024-04-14 08:44:40</td>\n",
       "      <td>2024-04-15 21:06:59</td>\n",
       "      <td>Drop in IBNP</td>\n",
       "      <td>jamonoo</td>\n",
       "      <td>130939.0</td>\n",
       "    </tr>\n",
       "    <tr>\n",
       "      <th>33908</th>\n",
       "      <td>BS9282811</td>\n",
       "      <td>121R</td>\n",
       "      <td>IBNP</td>\n",
       "      <td>2024-04-14 08:44:41</td>\n",
       "      <td>2024-04-15 21:07:44</td>\n",
       "      <td>Drop in IBNP</td>\n",
       "      <td>jamonoo</td>\n",
       "      <td>130983.0</td>\n",
       "    </tr>\n",
       "    <tr>\n",
       "      <th>33930</th>\n",
       "      <td>BH9246865</td>\n",
       "      <td>061R</td>\n",
       "      <td>IBNP</td>\n",
       "      <td>2024-04-18 17:18:59</td>\n",
       "      <td>2024-04-18 17:27:50</td>\n",
       "      <td>Drop in IBNP</td>\n",
       "      <td>sromero</td>\n",
       "      <td>531.0</td>\n",
       "    </tr>\n",
       "  </tbody>\n",
       "</table>\n",
       "<p>24966 rows × 8 columns</p>\n",
       "</div>"
      ],
      "text/plain": [
       "        CNTR_NBR LOCN_BRCD LOCN_BRCD_1    CREATE_DATE_TIME  \\\n",
       "0      BT0151175      191R        IBNP 2024-04-24 11:05:01   \n",
       "1      BT0151182      191R        IBNP 2024-04-24 12:16:01   \n",
       "4      BT0151168      191R        IBNP 2024-04-24 11:11:08   \n",
       "5      BT0151174      191R        IBNP 2024-04-24 11:23:58   \n",
       "6      BW0068631      009R        IBNP 2024-04-24 14:24:44   \n",
       "...          ...       ...         ...                 ...   \n",
       "33904  BF0006145      020R        IBNP 2024-04-14 08:11:32   \n",
       "33905  BF0006146      020R        IBNP 2024-04-14 08:11:33   \n",
       "33907  BS9282812      121R        IBNP 2024-04-14 08:44:40   \n",
       "33908  BS9282811      121R        IBNP 2024-04-14 08:44:41   \n",
       "33930  BH9246865      061R        IBNP 2024-04-18 17:18:59   \n",
       "\n",
       "            MOD_DATE_TIME          TEST   USER_ID  time_taken  \n",
       "0     2024-04-24 13:50:30  Drop in IBNP   cpowell      9929.0  \n",
       "1     2024-04-25 08:46:05  Drop in IBNP   cpowell     73804.0  \n",
       "4     2024-04-24 13:33:24  Drop in IBNP   cpowell      8536.0  \n",
       "5     2024-04-25 09:42:24  Drop in IBNP  ralvarez     80306.0  \n",
       "6     2024-04-25 06:15:27  Drop in IBNP   cpowell     57043.0  \n",
       "...                   ...           ...       ...         ...  \n",
       "33904 2024-04-15 21:38:18  Drop in IBNP   jamonoo    134806.0  \n",
       "33905 2024-04-15 21:42:24  Drop in IBNP   jamonoo    135051.0  \n",
       "33907 2024-04-15 21:06:59  Drop in IBNP   jamonoo    130939.0  \n",
       "33908 2024-04-15 21:07:44  Drop in IBNP   jamonoo    130983.0  \n",
       "33930 2024-04-18 17:27:50  Drop in IBNP   sromero       531.0  \n",
       "\n",
       "[24966 rows x 8 columns]"
      ]
     },
     "execution_count": 37,
     "metadata": {},
     "output_type": "execute_result"
    }
   ],
   "source": [
    "df"
   ]
  }
 ],
 "metadata": {
  "kernelspec": {
   "display_name": "Python 3",
   "language": "python",
   "name": "python3"
  },
  "language_info": {
   "codemirror_mode": {
    "name": "ipython",
    "version": 3
   },
   "file_extension": ".py",
   "mimetype": "text/x-python",
   "name": "python",
   "nbconvert_exporter": "python",
   "pygments_lexer": "ipython3",
   "version": "3.12.4"
  }
 },
 "nbformat": 4,
 "nbformat_minor": 2
}
